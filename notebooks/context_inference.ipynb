{
 "cells": [
  {
   "cell_type": "code",
   "execution_count": 81,
   "metadata": {},
   "outputs": [],
   "source": [
    "import sys\n",
    "sys.path.append(\"../\")\n",
    "sys.path.append(\"../multimodal/examples\")"
   ]
  },
  {
   "cell_type": "code",
   "execution_count": 82,
   "metadata": {},
   "outputs": [
    {
     "name": "stdout",
     "output_type": "stream",
     "text": [
      "The autoreload extension is already loaded. To reload it, use:\n",
      "  %reload_ext autoreload\n"
     ]
    }
   ],
   "source": [
    "import datasets\n",
    "import transformers\n",
    "\n",
    "from flava.data import TorchVisionDataModule, TextDataModule\n",
    "from flava.data.datamodules import MMDataModule\n",
    "from flava.definitions import FLAVAArguments\n",
    "from flava.utils import build_config, build_datamodule_kwargs\n",
    "from flava.model import FLAVAClassificationLightningModule\n",
    "%load_ext autoreload\n",
    "%autoreload 2"
   ]
  },
  {
   "cell_type": "code",
   "execution_count": 85,
   "metadata": {},
   "outputs": [],
   "source": [
    "from typing_extensions import Self\n",
    "from hydra.utils import instantiate\n",
    "from omegaconf import OmegaConf\n",
    "#conf_yaml = OmegaConf.load(\"../multimodal/examples/flava/configs/finetuning/qnli.yaml\")\n",
    "conf_yaml = OmegaConf.load(\"../configs/finetuning/mm_sst2_test.yaml\")\n",
    "config = instantiate(conf_yaml)\n",
    "datamodule = MMDataModule(\n",
    "            **build_datamodule_kwargs(config.datasets.vl, config.training))"
   ]
  },
  {
   "cell_type": "code",
   "execution_count": 86,
   "metadata": {},
   "outputs": [
    {
     "name": "stderr",
     "output_type": "stream",
     "text": [
      "Using custom data configuration israfelsr--multimodal_sst-7a13dc1af8e88b8d\n",
      "Reusing dataset parquet (/Users/israfelsalazar/.cache/huggingface/datasets/parquet/israfelsr--multimodal_sst-7a13dc1af8e88b8d/0.0.0/0b6d5799bb726b24ad7fc7be720c170d8e497f575d02d47537de9a5bac074901)\n",
      "Using custom data configuration israfelsr--multimodal_sst-7a13dc1af8e88b8d\n",
      "Reusing dataset parquet (/Users/israfelsalazar/.cache/huggingface/datasets/parquet/israfelsr--multimodal_sst-7a13dc1af8e88b8d/0.0.0/0b6d5799bb726b24ad7fc7be720c170d8e497f575d02d47537de9a5bac074901)\n"
     ]
    },
    {
     "data": {
      "application/vnd.jupyter.widget-view+json": {
       "model_id": "898a8c9c90f24536800821b37b1b5d80",
       "version_major": 2,
       "version_minor": 0
      },
      "text/plain": [
       "  0%|          | 0/1 [00:00<?, ?ba/s]"
      ]
     },
     "metadata": {},
     "output_type": "display_data"
    },
    {
     "data": {
      "application/vnd.jupyter.widget-view+json": {
       "model_id": "d126775f9873416aa77346a3e48d1b17",
       "version_major": 2,
       "version_minor": 0
      },
      "text/plain": [
       "  0%|          | 0/1 [00:00<?, ?ba/s]"
      ]
     },
     "metadata": {},
     "output_type": "display_data"
    }
   ],
   "source": [
    "datamodule.setup(\"fit\")"
   ]
  },
  {
   "cell_type": "code",
   "execution_count": 78,
   "metadata": {},
   "outputs": [],
   "source": [
    "model = FLAVAClassificationLightningModule(\n",
    "    num_classes=config.datasets.num_classes,\n",
    "    learning_rate=config.training.learning_rate,\n",
    "    adam_eps=config.training.adam_eps,\n",
    "    adam_weight_decay=config.training.adam_weight_decay,\n",
    "    adam_betas=config.training.adam_betas,\n",
    "    warmup_steps=config.training.warmup_steps,\n",
    "    max_steps=config.training.lightning.max_steps,\n",
    "    )"
   ]
  },
  {
   "cell_type": "code",
   "execution_count": 89,
   "metadata": {},
   "outputs": [],
   "source": [
    "loader = datamodule.train_dataloader()"
   ]
  },
  {
   "cell_type": "code",
   "execution_count": 92,
   "metadata": {},
   "outputs": [
    {
     "name": "stdout",
     "output_type": "stream",
     "text": [
      "dict_keys(['labels', 'image', 'input_ids', 'token_type_ids', 'special_tokens_mask', 'attention_mask'])\n"
     ]
    }
   ],
   "source": [
    "for t, (batch) in enumerate(loader):\n",
    "    print(batch.keys())\n",
    "    break"
   ]
  },
  {
   "cell_type": "code",
   "execution_count": 95,
   "metadata": {},
   "outputs": [],
   "source": [
    "batch.get(\"\")"
   ]
  },
  {
   "cell_type": "code",
   "execution_count": null,
   "metadata": {},
   "outputs": [],
   "source": []
  }
 ],
 "metadata": {
  "kernelspec": {
   "display_name": "Python 3.10.6 ('context-flava-venv')",
   "language": "python",
   "name": "python3"
  },
  "language_info": {
   "codemirror_mode": {
    "name": "ipython",
    "version": 3
   },
   "file_extension": ".py",
   "mimetype": "text/x-python",
   "name": "python",
   "nbconvert_exporter": "python",
   "pygments_lexer": "ipython3",
   "version": "3.10.6"
  },
  "orig_nbformat": 4,
  "vscode": {
   "interpreter": {
    "hash": "e921d2a41637140cf8012e383e5d48864dff426479c362ec6c0315d75076cceb"
   }
  }
 },
 "nbformat": 4,
 "nbformat_minor": 2
}
