{
 "cells": [
  {
   "cell_type": "code",
   "execution_count": 1,
   "metadata": {},
   "outputs": [],
   "source": [
    "import sys\n",
    "sys.path.append(\"../\")\n",
    "sys.path.append(\"../multimodal/examples\")"
   ]
  },
  {
   "cell_type": "code",
   "execution_count": 2,
   "metadata": {},
   "outputs": [],
   "source": [
    "import datasets\n",
    "import transformers\n",
    "\n",
    "from flava.data import TorchVisionDataModule, TextDataModule\n",
    "from flava.data.datamodules import VLDataModule\n",
    "from flava.definitions import FLAVAArguments\n",
    "from flava.utils import build_config, build_datamodule_kwargs"
   ]
  },
  {
   "cell_type": "code",
   "execution_count": 4,
   "metadata": {},
   "outputs": [],
   "source": [
    "from hydra.utils import instantiate\n",
    "from omegaconf import OmegaConf\n",
    "conf_yaml = OmegaConf.load(\"../configs/finetune/unimodal_sst.yaml\")\n",
    "config = instantiate(conf_yaml)\n",
    "datamodule = TextDataModule(\n",
    "            **build_datamodule_kwargs(config.datasets.text, config.training))"
   ]
  },
  {
   "cell_type": "code",
   "execution_count": 6,
   "metadata": {},
   "outputs": [
    {
     "name": "stderr",
     "output_type": "stream",
     "text": [
      "Using custom data configuration israfelsr--multimodal_sst-7a13dc1af8e88b8d\n"
     ]
    },
    {
     "name": "stdout",
     "output_type": "stream",
     "text": [
      "Downloading and preparing dataset sst2/default (download: 297.44 MiB, generated: 297.44 MiB, post-processed: Unknown size, total: 594.87 MiB) to /Users/israfelsalazar/.cache/huggingface/datasets/parquet/israfelsr--multimodal_sst-7a13dc1af8e88b8d/0.0.0/0b6d5799bb726b24ad7fc7be720c170d8e497f575d02d47537de9a5bac074901...\n"
     ]
    },
    {
     "data": {
      "application/vnd.jupyter.widget-view+json": {
       "model_id": "4257ce4914c2444d8828087e4952c641",
       "version_major": 2,
       "version_minor": 0
      },
      "text/plain": [
       "Downloading data files:   0%|          | 0/2 [00:00<?, ?it/s]"
      ]
     },
     "metadata": {},
     "output_type": "display_data"
    },
    {
     "data": {
      "application/vnd.jupyter.widget-view+json": {
       "model_id": "abe109afbe4241f4814235f079b12e47",
       "version_major": 2,
       "version_minor": 0
      },
      "text/plain": [
       "Downloading data:   0%|          | 0.00/308M [00:00<?, ?B/s]"
      ]
     },
     "metadata": {},
     "output_type": "display_data"
    },
    {
     "data": {
      "application/vnd.jupyter.widget-view+json": {
       "model_id": "69838d529cd24dd8827c440c992f7468",
       "version_major": 2,
       "version_minor": 0
      },
      "text/plain": [
       "Downloading data:   0%|          | 0.00/4.03M [00:00<?, ?B/s]"
      ]
     },
     "metadata": {},
     "output_type": "display_data"
    },
    {
     "data": {
      "application/vnd.jupyter.widget-view+json": {
       "model_id": "e645d865384b4e8d85d319ee1a762b8d",
       "version_major": 2,
       "version_minor": 0
      },
      "text/plain": [
       "Extracting data files:   0%|          | 0/2 [00:00<?, ?it/s]"
      ]
     },
     "metadata": {},
     "output_type": "display_data"
    },
    {
     "name": "stdout",
     "output_type": "stream",
     "text": [
      "Dataset parquet downloaded and prepared to /Users/israfelsalazar/.cache/huggingface/datasets/parquet/israfelsr--multimodal_sst-7a13dc1af8e88b8d/0.0.0/0b6d5799bb726b24ad7fc7be720c170d8e497f575d02d47537de9a5bac074901. Subsequent calls will reuse this data.\n"
     ]
    },
    {
     "name": "stderr",
     "output_type": "stream",
     "text": [
      "Using custom data configuration israfelsr--multimodal_sst-7a13dc1af8e88b8d\n",
      "Reusing dataset parquet (/Users/israfelsalazar/.cache/huggingface/datasets/parquet/israfelsr--multimodal_sst-7a13dc1af8e88b8d/0.0.0/0b6d5799bb726b24ad7fc7be720c170d8e497f575d02d47537de9a5bac074901)\n"
     ]
    }
   ],
   "source": [
    "datamodule.setup(\"fit\")"
   ]
  },
  {
   "cell_type": "code",
   "execution_count": 12,
   "metadata": {},
   "outputs": [
    {
     "name": "stdout",
     "output_type": "stream",
     "text": [
      "dict_keys(['sentence', 'label', 'pixel_array', 'input_ids', 'token_type_ids', 'special_tokens_mask', 'attention_mask'])\n"
     ]
    }
   ],
   "source": [
    "for (batch, dictionary) in enumerate(datamodule.train_dataset):\n",
    "    print(dictionary.keys())\n",
    "    break"
   ]
  },
  {
   "cell_type": "code",
   "execution_count": null,
   "metadata": {},
   "outputs": [],
   "source": []
  }
 ],
 "metadata": {
  "kernelspec": {
   "display_name": "Python 3.10.6 ('context-flava-venv')",
   "language": "python",
   "name": "python3"
  },
  "language_info": {
   "codemirror_mode": {
    "name": "ipython",
    "version": 3
   },
   "file_extension": ".py",
   "mimetype": "text/x-python",
   "name": "python",
   "nbconvert_exporter": "python",
   "pygments_lexer": "ipython3",
   "version": "3.10.6"
  },
  "orig_nbformat": 4,
  "vscode": {
   "interpreter": {
    "hash": "e921d2a41637140cf8012e383e5d48864dff426479c362ec6c0315d75076cceb"
   }
  }
 },
 "nbformat": 4,
 "nbformat_minor": 2
}
