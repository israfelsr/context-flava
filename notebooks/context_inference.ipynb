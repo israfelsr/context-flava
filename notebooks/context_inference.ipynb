{
 "cells": [
  {
   "cell_type": "code",
   "execution_count": 19,
   "metadata": {},
   "outputs": [],
   "source": [
    "import sys\n",
    "sys.path.append(\"../\")\n",
    "sys.path.append(\"../multimodal/examples\")"
   ]
  },
  {
   "cell_type": "code",
   "execution_count": 63,
   "metadata": {},
   "outputs": [],
   "source": [
    "import datasets\n",
    "import transformers\n",
    "\n",
    "from flava.data import TorchVisionDataModule, TextDataModule\n",
    "from flava.data.datamodules import VLDataModule\n",
    "from flava.definitions import FLAVAArguments\n",
    "from flava.utils import build_config, build_datamodule_kwargs"
   ]
  },
  {
   "cell_type": "code",
   "execution_count": 65,
   "metadata": {},
   "outputs": [],
   "source": [
    "from hydra.utils import instantiate\n",
    "from omegaconf import OmegaConf\n",
    "conf_yaml = OmegaConf.load(\"../configs/finetune/unimodal_sst.yaml\")\n",
    "config = instantiate(conf_yaml)\n",
    "datamodule = TextDataModule(\n",
    "            **build_datamodule_kwargs(config.datasets.text, config.training))"
   ]
  },
  {
   "cell_type": "code",
   "execution_count": 66,
   "metadata": {},
   "outputs": [
    {
     "name": "stderr",
     "output_type": "stream",
     "text": [
      "Using custom data configuration israfelsr--multimodal_sst-5416e07e34a854c5\n",
      "Reusing dataset parquet (/Users/israfelsalazar/.cache/huggingface/datasets/parquet/israfelsr--multimodal_sst-5416e07e34a854c5/0.0.0/0b6d5799bb726b24ad7fc7be720c170d8e497f575d02d47537de9a5bac074901)\n"
     ]
    },
    {
     "ename": "ValueError",
     "evalue": "Column name idx not in the dataset. Current columns in the dataset: ['sentence', 'label', 'tokens', 'tree', 'pixel_array']",
     "output_type": "error",
     "traceback": [
      "\u001b[0;31m---------------------------------------------------------------------------\u001b[0m",
      "\u001b[0;31mValueError\u001b[0m                                Traceback (most recent call last)",
      "Cell \u001b[0;32mIn [66], line 1\u001b[0m\n\u001b[0;32m----> 1\u001b[0m \u001b[43mdatamodule\u001b[49m\u001b[38;5;241;43m.\u001b[39;49m\u001b[43msetup\u001b[49m\u001b[43m(\u001b[49m\u001b[38;5;124;43m\"\u001b[39;49m\u001b[38;5;124;43mfit\u001b[39;49m\u001b[38;5;124;43m\"\u001b[39;49m\u001b[43m)\u001b[49m\n",
      "File \u001b[0;32m~/Documents/context-flava.nosync/context-flava/notebooks/../multimodal/examples/flava/data/datamodules.py:169\u001b[0m, in \u001b[0;36mTextDataModule.setup\u001b[0;34m(self, stage)\u001b[0m\n\u001b[1;32m    157\u001b[0m     \u001b[39mself\u001b[39m\u001b[39m.\u001b[39mtokenizer \u001b[39m=\u001b[39m BertTokenizer\u001b[39m.\u001b[39mfrom_pretrained(TEXT_DEFAULT_TOKENIZER)\n\u001b[1;32m    158\u001b[0m transform \u001b[39m=\u001b[39m partial(\n\u001b[1;32m    159\u001b[0m     encode_text_batch,\n\u001b[1;32m    160\u001b[0m     tokenizer\u001b[39m=\u001b[39m\u001b[39mself\u001b[39m\u001b[39m.\u001b[39mtokenizer,\n\u001b[0;32m   (...)\u001b[0m\n\u001b[1;32m    167\u001b[0m     return_batch\u001b[39m=\u001b[39m\u001b[39mTrue\u001b[39;00m,\n\u001b[1;32m    168\u001b[0m )\n\u001b[0;32m--> 169\u001b[0m \u001b[39mself\u001b[39m\u001b[39m.\u001b[39mtrain_dataset \u001b[39m=\u001b[39m build_datasets_from_info(\n\u001b[1;32m    170\u001b[0m     \u001b[39mself\u001b[39;49m\u001b[39m.\u001b[39;49mtrain_dataset_infos, split\u001b[39m=\u001b[39;49m\u001b[39m\"\u001b[39;49m\u001b[39mtrain\u001b[39;49m\u001b[39m\"\u001b[39;49m\n\u001b[1;32m    171\u001b[0m )\n\u001b[1;32m    172\u001b[0m \u001b[39mself\u001b[39m\u001b[39m.\u001b[39mtrain_dataset\u001b[39m.\u001b[39mset_transform(transform)\n\u001b[1;32m    173\u001b[0m \u001b[39mself\u001b[39m\u001b[39m.\u001b[39mval_dataset \u001b[39m=\u001b[39m build_datasets_from_info(\n\u001b[1;32m    174\u001b[0m     \u001b[39mself\u001b[39m\u001b[39m.\u001b[39mval_dataset_infos, split\u001b[39m=\u001b[39m\u001b[39m\"\u001b[39m\u001b[39mvalidation\u001b[39m\u001b[39m\"\u001b[39m\n\u001b[1;32m    175\u001b[0m )\n",
      "File \u001b[0;32m~/Documents/context-flava.nosync/context-flava/notebooks/../multimodal/examples/flava/data/utils.py:33\u001b[0m, in \u001b[0;36mbuild_datasets_from_info\u001b[0;34m(dataset_infos, split)\u001b[0m\n\u001b[1;32m     25\u001b[0m current_dataset \u001b[39m=\u001b[39m load_dataset(\n\u001b[1;32m     26\u001b[0m     dataset_info\u001b[39m.\u001b[39mkey,\n\u001b[1;32m     27\u001b[0m     dataset_info\u001b[39m.\u001b[39msubset,\n\u001b[0;32m   (...)\u001b[0m\n\u001b[1;32m     30\u001b[0m     \u001b[39m*\u001b[39m\u001b[39m*\u001b[39mdataset_info\u001b[39m.\u001b[39mextra_kwargs,\n\u001b[1;32m     31\u001b[0m )\n\u001b[1;32m     32\u001b[0m \u001b[39mif\u001b[39;00m dataset_info\u001b[39m.\u001b[39mremove_columns \u001b[39mis\u001b[39;00m \u001b[39mnot\u001b[39;00m \u001b[39mNone\u001b[39;00m:\n\u001b[0;32m---> 33\u001b[0m     current_dataset \u001b[39m=\u001b[39m current_dataset\u001b[39m.\u001b[39;49mremove_columns(\n\u001b[1;32m     34\u001b[0m         dataset_info\u001b[39m.\u001b[39;49mremove_columns\n\u001b[1;32m     35\u001b[0m     )\n\u001b[1;32m     36\u001b[0m \u001b[39mif\u001b[39;00m dataset_info\u001b[39m.\u001b[39mrename_columns \u001b[39mis\u001b[39;00m \u001b[39mnot\u001b[39;00m \u001b[39mNone\u001b[39;00m:\n\u001b[1;32m     37\u001b[0m     \u001b[39mfor\u001b[39;00m rename \u001b[39min\u001b[39;00m dataset_info\u001b[39m.\u001b[39mrename_columns:\n",
      "File \u001b[0;32m/opt/homebrew/Caskroom/miniforge/base/envs/context-flava-venv/lib/python3.10/site-packages/datasets/arrow_dataset.py:519\u001b[0m, in \u001b[0;36mtransmit_tasks.<locals>.wrapper\u001b[0;34m(*args, **kwargs)\u001b[0m\n\u001b[1;32m    517\u001b[0m     \u001b[39mself\u001b[39m: \u001b[39m\"\u001b[39m\u001b[39mDataset\u001b[39m\u001b[39m\"\u001b[39m \u001b[39m=\u001b[39m kwargs\u001b[39m.\u001b[39mpop(\u001b[39m\"\u001b[39m\u001b[39mself\u001b[39m\u001b[39m\"\u001b[39m)\n\u001b[1;32m    518\u001b[0m \u001b[39m# apply actual function\u001b[39;00m\n\u001b[0;32m--> 519\u001b[0m out: Union[\u001b[39m\"\u001b[39m\u001b[39mDataset\u001b[39m\u001b[39m\"\u001b[39m, \u001b[39m\"\u001b[39m\u001b[39mDatasetDict\u001b[39m\u001b[39m\"\u001b[39m] \u001b[39m=\u001b[39m func(\u001b[39mself\u001b[39;49m, \u001b[39m*\u001b[39;49margs, \u001b[39m*\u001b[39;49m\u001b[39m*\u001b[39;49mkwargs)\n\u001b[1;32m    520\u001b[0m datasets: List[\u001b[39m\"\u001b[39m\u001b[39mDataset\u001b[39m\u001b[39m\"\u001b[39m] \u001b[39m=\u001b[39m \u001b[39mlist\u001b[39m(out\u001b[39m.\u001b[39mvalues()) \u001b[39mif\u001b[39;00m \u001b[39misinstance\u001b[39m(out, \u001b[39mdict\u001b[39m) \u001b[39melse\u001b[39;00m [out]\n\u001b[1;32m    521\u001b[0m \u001b[39mfor\u001b[39;00m dataset \u001b[39min\u001b[39;00m datasets:\n\u001b[1;32m    522\u001b[0m     \u001b[39m# Remove task templates if a column mapping of the template is no longer valid\u001b[39;00m\n",
      "File \u001b[0;32m/opt/homebrew/Caskroom/miniforge/base/envs/context-flava-venv/lib/python3.10/site-packages/datasets/fingerprint.py:458\u001b[0m, in \u001b[0;36mfingerprint_transform.<locals>._fingerprint.<locals>.wrapper\u001b[0;34m(*args, **kwargs)\u001b[0m\n\u001b[1;32m    452\u001b[0m             kwargs[fingerprint_name] \u001b[39m=\u001b[39m update_fingerprint(\n\u001b[1;32m    453\u001b[0m                 \u001b[39mself\u001b[39m\u001b[39m.\u001b[39m_fingerprint, transform, kwargs_for_fingerprint\n\u001b[1;32m    454\u001b[0m             )\n\u001b[1;32m    456\u001b[0m \u001b[39m# Call actual function\u001b[39;00m\n\u001b[0;32m--> 458\u001b[0m out \u001b[39m=\u001b[39m func(\u001b[39mself\u001b[39;49m, \u001b[39m*\u001b[39;49margs, \u001b[39m*\u001b[39;49m\u001b[39m*\u001b[39;49mkwargs)\n\u001b[1;32m    460\u001b[0m \u001b[39m# Update fingerprint of in-place transforms + update in-place history of transforms\u001b[39;00m\n\u001b[1;32m    462\u001b[0m \u001b[39mif\u001b[39;00m inplace:  \u001b[39m# update after calling func so that the fingerprint doesn't change if the function fails\u001b[39;00m\n",
      "File \u001b[0;32m/opt/homebrew/Caskroom/miniforge/base/envs/context-flava-venv/lib/python3.10/site-packages/datasets/arrow_dataset.py:1372\u001b[0m, in \u001b[0;36mDataset.remove_columns\u001b[0;34m(self, column_names, new_fingerprint)\u001b[0m\n\u001b[1;32m   1370\u001b[0m \u001b[39mfor\u001b[39;00m column_name \u001b[39min\u001b[39;00m column_names:\n\u001b[1;32m   1371\u001b[0m     \u001b[39mif\u001b[39;00m column_name \u001b[39mnot\u001b[39;00m \u001b[39min\u001b[39;00m dataset\u001b[39m.\u001b[39m_data\u001b[39m.\u001b[39mcolumn_names:\n\u001b[0;32m-> 1372\u001b[0m         \u001b[39mraise\u001b[39;00m \u001b[39mValueError\u001b[39;00m(\n\u001b[1;32m   1373\u001b[0m             \u001b[39mf\u001b[39m\u001b[39m\"\u001b[39m\u001b[39mColumn name \u001b[39m\u001b[39m{\u001b[39;00mcolumn_name\u001b[39m}\u001b[39;00m\u001b[39m not in the dataset. \u001b[39m\u001b[39m\"\u001b[39m\n\u001b[1;32m   1374\u001b[0m             \u001b[39mf\u001b[39m\u001b[39m\"\u001b[39m\u001b[39mCurrent columns in the dataset: \u001b[39m\u001b[39m{\u001b[39;00mdataset\u001b[39m.\u001b[39m_data\u001b[39m.\u001b[39mcolumn_names\u001b[39m}\u001b[39;00m\u001b[39m\"\u001b[39m\n\u001b[1;32m   1375\u001b[0m         )\n\u001b[1;32m   1377\u001b[0m \u001b[39mfor\u001b[39;00m column_name \u001b[39min\u001b[39;00m column_names:\n\u001b[1;32m   1378\u001b[0m     \u001b[39mdel\u001b[39;00m dataset\u001b[39m.\u001b[39m_info\u001b[39m.\u001b[39mfeatures[column_name]\n",
      "\u001b[0;31mValueError\u001b[0m: Column name idx not in the dataset. Current columns in the dataset: ['sentence', 'label', 'tokens', 'tree', 'pixel_array']"
     ]
    }
   ],
   "source": [
    "datamodule.setup(\"fit\")"
   ]
  },
  {
   "cell_type": "code",
   "execution_count": null,
   "metadata": {},
   "outputs": [],
   "source": []
  }
 ],
 "metadata": {
  "kernelspec": {
   "display_name": "Python 3.10.6 ('context-flava-venv')",
   "language": "python",
   "name": "python3"
  },
  "language_info": {
   "codemirror_mode": {
    "name": "ipython",
    "version": 3
   },
   "file_extension": ".py",
   "mimetype": "text/x-python",
   "name": "python",
   "nbconvert_exporter": "python",
   "pygments_lexer": "ipython3",
   "version": "3.10.6"
  },
  "orig_nbformat": 4,
  "vscode": {
   "interpreter": {
    "hash": "e921d2a41637140cf8012e383e5d48864dff426479c362ec6c0315d75076cceb"
   }
  }
 },
 "nbformat": 4,
 "nbformat_minor": 2
}
