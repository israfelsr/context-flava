{
 "cells": [
  {
   "cell_type": "code",
   "execution_count": 1,
   "metadata": {},
   "outputs": [],
   "source": [
    "import sys\n",
    "sys.path.append(\"../\")\n",
    "sys.path.append(\"../multimodal/examples\")"
   ]
  },
  {
   "cell_type": "code",
   "execution_count": 2,
   "metadata": {},
   "outputs": [],
   "source": [
    "import datasets\n",
    "import transformers\n",
    "\n",
    "from flava.data import TorchVisionDataModule, TextDataModule\n",
    "from flava.data.datamodules import VLDataModule\n",
    "from flava.definitions import FLAVAArguments\n",
    "from flava.utils import build_config, build_datamodule_kwargs"
   ]
  },
  {
   "cell_type": "code",
   "execution_count": 1,
   "metadata": {},
   "outputs": [],
   "source": [
    "from hydra.utils import instantiate\n",
    "from omegaconf import OmegaConf\n",
    "conf_yaml = OmegaConf.load(\"../configs/precontext/sst2_to_image.yaml\")\n",
    "config = instantiate(conf_yaml)\n"
   ]
  },
  {
   "cell_type": "code",
   "execution_count": 3,
   "metadata": {},
   "outputs": [
    {
     "data": {
      "text/plain": [
       "'israfelsr/multimodal_sst2'"
      ]
     },
     "execution_count": 3,
     "metadata": {},
     "output_type": "execute_result"
    }
   ],
   "source": [
    "config.repo_id"
   ]
  },
  {
   "cell_type": "code",
   "execution_count": 45,
   "metadata": {},
   "outputs": [],
   "source": [
    "from hydra.utils import instantiate\n",
    "from omegaconf import OmegaConf\n",
    "#conf_yaml = OmegaConf.load(\"../multimodal/examples/flava/configs/finetuning/qnli.yaml\")\n",
    "conf_yaml = OmegaConf.load(\"../configs/finetuning/unimodal_sst.yaml\")\n",
    "config = instantiate(conf_yaml)\n",
    "datamodule = TextDataModule(\n",
    "            **build_datamodule_kwargs(config.datasets.text, config.training))"
   ]
  },
  {
   "cell_type": "code",
   "execution_count": 46,
   "metadata": {},
   "outputs": [
    {
     "name": "stderr",
     "output_type": "stream",
     "text": [
      "Using custom data configuration israfelsr--multimodal_sst-7a13dc1af8e88b8d\n",
      "Reusing dataset parquet (/Users/israfelsalazar/.cache/huggingface/datasets/parquet/israfelsr--multimodal_sst-7a13dc1af8e88b8d/0.0.0/0b6d5799bb726b24ad7fc7be720c170d8e497f575d02d47537de9a5bac074901)\n",
      "Using custom data configuration israfelsr--multimodal_sst-7a13dc1af8e88b8d\n",
      "Reusing dataset parquet (/Users/israfelsalazar/.cache/huggingface/datasets/parquet/israfelsr--multimodal_sst-7a13dc1af8e88b8d/0.0.0/0b6d5799bb726b24ad7fc7be720c170d8e497f575d02d47537de9a5bac074901)\n"
     ]
    }
   ],
   "source": [
    "datamodule.setup(\"fit\")"
   ]
  },
  {
   "cell_type": "code",
   "execution_count": 47,
   "metadata": {},
   "outputs": [
    {
     "name": "stdout",
     "output_type": "stream",
     "text": [
      "0\n",
      "0\n",
      "1\n",
      "0\n",
      "0\n",
      "0\n"
     ]
    }
   ],
   "source": [
    "for t, sample in enumerate(datamodule.train_dataset):\n",
    "    print(sample[\"label\"])\n",
    "    if t == 5:\n",
    "        break"
   ]
  },
  {
   "cell_type": "code",
   "execution_count": 50,
   "metadata": {},
   "outputs": [
    {
     "data": {
      "text/plain": [
       "9"
      ]
     },
     "execution_count": 50,
     "metadata": {},
     "output_type": "execute_result"
    }
   ],
   "source": [
    "len(datamodule.val_dataset)"
   ]
  },
  {
   "cell_type": "code",
   "execution_count": null,
   "metadata": {},
   "outputs": [],
   "source": []
  }
 ],
 "metadata": {
  "kernelspec": {
   "display_name": "Python 3.10.6 ('context-flava-venv')",
   "language": "python",
   "name": "python3"
  },
  "language_info": {
   "codemirror_mode": {
    "name": "ipython",
    "version": 3
   },
   "file_extension": ".py",
   "mimetype": "text/x-python",
   "name": "python",
   "nbconvert_exporter": "python",
   "pygments_lexer": "ipython3",
   "version": "3.10.6"
  },
  "orig_nbformat": 4,
  "vscode": {
   "interpreter": {
    "hash": "e921d2a41637140cf8012e383e5d48864dff426479c362ec6c0315d75076cceb"
   }
  }
 },
 "nbformat": 4,
 "nbformat_minor": 2
}
