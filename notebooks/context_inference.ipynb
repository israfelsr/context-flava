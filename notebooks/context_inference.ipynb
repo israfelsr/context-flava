{
 "cells": [
  {
   "cell_type": "code",
   "execution_count": 1,
   "metadata": {},
   "outputs": [],
   "source": [
    "import sys\n",
    "sys.path.append(\"../\")\n",
    "sys.path.append(\"../multimodal/examples\")"
   ]
  },
  {
   "cell_type": "code",
   "execution_count": 2,
   "metadata": {},
   "outputs": [],
   "source": [
    "import datasets\n",
    "import transformers\n",
    "\n",
    "from flava.data import TorchVisionDataModule, TextDataModule\n",
    "from flava.data.datamodules import MMDataModule\n",
    "from flava.definitions import FLAVAArguments\n",
    "from flava.utils import build_config, build_datamodule_kwargs\n",
    "from flava.model import FLAVAClassificationLightningModule\n",
    "%load_ext autoreload\n",
    "%autoreload 2"
   ]
  },
  {
   "cell_type": "code",
   "execution_count": 5,
   "metadata": {},
   "outputs": [],
   "source": [
    "from hydra.utils import instantiate\n",
    "from omegaconf import OmegaConf\n",
    "#conf_yaml = OmegaConf.load(\"../multimodal/examples/flava/configs/finetuning/qnli.yaml\")\n",
    "conf_yaml = OmegaConf.load(\"../configs/finetuning/mm_sst2_test.yaml\")\n",
    "config = instantiate(conf_yaml)\n",
    "datamodule = MMDataModule(\n",
    "            **build_datamodule_kwargs(config.datasets.vl, config.training))"
   ]
  },
  {
   "cell_type": "code",
   "execution_count": 7,
   "metadata": {},
   "outputs": [
    {
     "name": "stderr",
     "output_type": "stream",
     "text": [
      "Using custom data configuration israfelsr--multimodal_sst-196b843417c02b29\n",
      "Reusing dataset parquet (/Users/israfelsalazar/.cache/huggingface/datasets/parquet/israfelsr--multimodal_sst-196b843417c02b29/0.0.0/0b6d5799bb726b24ad7fc7be720c170d8e497f575d02d47537de9a5bac074901)\n",
      "Using custom data configuration israfelsr--multimodal_sst-196b843417c02b29\n",
      "Reusing dataset parquet (/Users/israfelsalazar/.cache/huggingface/datasets/parquet/israfelsr--multimodal_sst-196b843417c02b29/0.0.0/0b6d5799bb726b24ad7fc7be720c170d8e497f575d02d47537de9a5bac074901)\n"
     ]
    },
    {
     "data": {
      "application/vnd.jupyter.widget-view+json": {
       "model_id": "880276d25c5743faba7a9defc7623754",
       "version_major": 2,
       "version_minor": 0
      },
      "text/plain": [
       "  0%|          | 0/21 [00:00<?, ?ba/s]"
      ]
     },
     "metadata": {},
     "output_type": "display_data"
    }
   ],
   "source": [
    "datamodule.setup(\"fit\")"
   ]
  },
  {
   "cell_type": "code",
   "execution_count": null,
   "metadata": {},
   "outputs": [
    {
     "name": "stdout",
     "output_type": "stream",
     "text": [
      "dict_keys(['text', 'label', 'image', 'input_ids', 'token_type_ids', 'special_tokens_mask', 'attention_mask'])\n",
      "tensor([[[-0.2856, -0.6965, -0.7993,  ..., -0.3541, -0.1828, -0.4397],\n",
      "         [-0.3883, -0.7479, -0.7650,  ..., -0.3198, -0.1999, -0.4739],\n",
      "         [-0.4226, -0.7822, -0.7650,  ..., -0.2684, -0.1999, -0.4054],\n",
      "         ...,\n",
      "         [ 0.1426,  0.0741,  0.0227,  ..., -0.5082, -0.4911, -0.5082],\n",
      "         [ 0.4851,  0.4508,  0.4679,  ..., -0.3027, -0.1657, -0.0801],\n",
      "         [ 0.3138,  0.3652,  0.3481,  ..., -0.5596, -0.5253, -0.3883]],\n",
      "\n",
      "        [[-1.0903, -1.5280, -1.5455,  ..., -1.3704, -1.1954, -1.3529],\n",
      "         [-1.1954, -1.5280, -1.5280,  ..., -1.3004, -1.2129, -1.4055],\n",
      "         [-1.2479, -1.5630, -1.5280,  ..., -1.2304, -1.1604, -1.3880],\n",
      "         ...,\n",
      "         [-0.8803, -0.8978, -0.9503,  ..., -1.1429, -1.1429, -1.1779],\n",
      "         [ 0.0301, -0.0399, -0.0924,  ..., -0.6176, -0.5651, -0.4951],\n",
      "         [ 0.0301, -0.0224, -0.1450,  ..., -1.1078, -1.1078, -0.9153]],\n",
      "\n",
      "        [[-1.1596, -1.4733, -1.5081,  ..., -1.3164, -1.1770, -1.3513],\n",
      "         [-1.2293, -1.4733, -1.4559,  ..., -1.2990, -1.1944, -1.3861],\n",
      "         [-1.2467, -1.4907, -1.4559,  ..., -1.2293, -1.1944, -1.4036],\n",
      "         ...,\n",
      "         [-0.8458, -0.8458, -0.8807,  ..., -1.0376, -1.0550, -1.1247],\n",
      "         [-0.0092, -0.0615, -0.1312,  ..., -0.4973, -0.4275, -0.3927],\n",
      "         [-0.0092, -0.0615, -0.2532,  ..., -1.1770, -1.1073, -0.8981]]])\n"
     ]
    },
    {
     "data": {
      "text/plain": [
       "tensor([[[-0.2856, -0.6965, -0.7993,  ..., -0.3541, -0.1828, -0.4397],\n",
       "         [-0.3883, -0.7479, -0.7650,  ..., -0.3198, -0.1999, -0.4739],\n",
       "         [-0.4226, -0.7822, -0.7650,  ..., -0.2684, -0.1999, -0.4054],\n",
       "         ...,\n",
       "         [ 0.1426,  0.0741,  0.0227,  ..., -0.5082, -0.4911, -0.5082],\n",
       "         [ 0.4851,  0.4508,  0.4679,  ..., -0.3027, -0.1657, -0.0801],\n",
       "         [ 0.3138,  0.3652,  0.3481,  ..., -0.5596, -0.5253, -0.3883]],\n",
       "\n",
       "        [[-1.0903, -1.5280, -1.5455,  ..., -1.3704, -1.1954, -1.3529],\n",
       "         [-1.1954, -1.5280, -1.5280,  ..., -1.3004, -1.2129, -1.4055],\n",
       "         [-1.2479, -1.5630, -1.5280,  ..., -1.2304, -1.1604, -1.3880],\n",
       "         ...,\n",
       "         [-0.8803, -0.8978, -0.9503,  ..., -1.1429, -1.1429, -1.1779],\n",
       "         [ 0.0301, -0.0399, -0.0924,  ..., -0.6176, -0.5651, -0.4951],\n",
       "         [ 0.0301, -0.0224, -0.1450,  ..., -1.1078, -1.1078, -0.9153]],\n",
       "\n",
       "        [[-1.1596, -1.4733, -1.5081,  ..., -1.3164, -1.1770, -1.3513],\n",
       "         [-1.2293, -1.4733, -1.4559,  ..., -1.2990, -1.1944, -1.3861],\n",
       "         [-1.2467, -1.4907, -1.4559,  ..., -1.2293, -1.1944, -1.4036],\n",
       "         ...,\n",
       "         [-0.8458, -0.8458, -0.8807,  ..., -1.0376, -1.0550, -1.1247],\n",
       "         [-0.0092, -0.0615, -0.1312,  ..., -0.4973, -0.4275, -0.3927],\n",
       "         [-0.0092, -0.0615, -0.2532,  ..., -1.1770, -1.1073, -0.8981]]])"
      ]
     },
     "metadata": {},
     "output_type": "display_data"
    }
   ],
   "source": [
    "# colored images\n",
    "for sample in datamodule.train_dataset:\n",
    "    print(sample.keys())\n",
    "    print(sample['image'])\n",
    "    display(sample['image'])\n",
    "    break"
   ]
  },
  {
   "cell_type": "code",
   "execution_count": null,
   "metadata": {},
   "outputs": [],
   "source": [
    "# black images\n",
    "for sample in datamodule.train_dataset:\n",
    "    print(sample.keys())\n",
    "    print(sample['image'])\n",
    "    display(sample['image'])\n",
    "    break"
   ]
  },
  {
   "cell_type": "code",
   "execution_count": 78,
   "metadata": {},
   "outputs": [],
   "source": [
    "model = FLAVAClassificationLightningModule(\n",
    "    num_classes=config.datasets.num_classes,\n",
    "    learning_rate=config.training.learning_rate,\n",
    "    adam_eps=config.training.adam_eps,\n",
    "    adam_weight_decay=config.training.adam_weight_decay,\n",
    "    adam_betas=config.training.adam_betas,\n",
    "    warmup_steps=config.training.warmup_steps,\n",
    "    max_steps=config.training.lightning.max_steps,\n",
    "    )"
   ]
  },
  {
   "cell_type": "code",
   "execution_count": 89,
   "metadata": {},
   "outputs": [],
   "source": [
    "loader = datamodule.train_dataloader()"
   ]
  },
  {
   "cell_type": "code",
   "execution_count": 92,
   "metadata": {},
   "outputs": [
    {
     "name": "stdout",
     "output_type": "stream",
     "text": [
      "dict_keys(['labels', 'image', 'input_ids', 'token_type_ids', 'special_tokens_mask', 'attention_mask'])\n"
     ]
    }
   ],
   "source": [
    "for t, (batch) in enumerate(loader):\n",
    "    break"
   ]
  },
  {
   "cell_type": "code",
   "execution_count": 95,
   "metadata": {},
   "outputs": [],
   "source": [
    "batch.get(\"\")"
   ]
  },
  {
   "cell_type": "code",
   "execution_count": null,
   "metadata": {},
   "outputs": [],
   "source": []
  }
 ],
 "metadata": {
  "kernelspec": {
   "display_name": "Python 3.10.6 ('context-flava-venv')",
   "language": "python",
   "name": "python3"
  },
  "language_info": {
   "codemirror_mode": {
    "name": "ipython",
    "version": 3
   },
   "file_extension": ".py",
   "mimetype": "text/x-python",
   "name": "python",
   "nbconvert_exporter": "python",
   "pygments_lexer": "ipython3",
   "version": "3.10.6"
  },
  "orig_nbformat": 4,
  "vscode": {
   "interpreter": {
    "hash": "e921d2a41637140cf8012e383e5d48864dff426479c362ec6c0315d75076cceb"
   }
  }
 },
 "nbformat": 4,
 "nbformat_minor": 2
}
